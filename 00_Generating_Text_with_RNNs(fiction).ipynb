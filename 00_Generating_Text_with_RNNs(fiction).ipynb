{
 "cells": [
  {
   "cell_type": "markdown",
   "metadata": {
    "id": "ovpZyIhNIgoq"
   },
   "source": [
    "___\n",
    "\n",
    "___\n",
    "# Text Generation with Neural Networks\n"
   ]
  },
  {
   "cell_type": "code",
   "execution_count": null,
   "metadata": {
    "id": "00mwlQwloO5_"
   },
   "outputs": [],
   "source": [
    "# GOOGLE COLLAB USERS ONLY\n",
    "%tensorflow_version 2.x"
   ]
  },
  {
   "cell_type": "code",
   "execution_count": 1,
   "metadata": {
    "id": "WBd69MDEm4rF"
   },
   "outputs": [],
   "source": [
    "import numpy as np\n",
    "import pandas as pd\n",
    "import matplotlib.pyplot as plt\n",
    "import tensorflow as tf"
   ]
  },
  {
   "cell_type": "code",
   "execution_count": null,
   "metadata": {
    "id": "sDbPtshnm4rL"
   },
   "outputs": [],
   "source": [
    "# IGNORE THE CONTENT OF THIS CELL\n",
    "# tf.compat.v1.disable_eager_execution()"
   ]
  },
  {
   "cell_type": "code",
   "execution_count": 2,
   "metadata": {
    "colab": {
     "base_uri": "https://localhost:8080/",
     "height": 35
    },
    "id": "kycWuRI9oaSP",
    "outputId": "90d78433-0fe6-4818-a780-fce2b2d211f5"
   },
   "outputs": [
    {
     "data": {
      "application/vnd.google.colaboratory.intrinsic+json": {
       "type": "string"
      },
      "text/plain": [
       "'2.4.1'"
      ]
     },
     "execution_count": 2,
     "metadata": {
      "tags": []
     },
     "output_type": "execute_result"
    }
   ],
   "source": [
    "tf.__version__"
   ]
  },
  {
   "cell_type": "markdown",
   "metadata": {
    "id": "apj1Chkdm4rS"
   },
   "source": [
    "## Step 1: The Data\n",
    "\n"
   ]
  },
  {
   "cell_type": "code",
   "execution_count": 3,
   "metadata": {
    "id": "pD_55cOxLkAb"
   },
   "outputs": [],
   "source": [
    "path_to_file = 'fiction_bookshelf.txt'"
   ]
  },
  {
   "cell_type": "code",
   "execution_count": 4,
   "metadata": {
    "id": "aavnuByVymwK"
   },
   "outputs": [],
   "source": [
    "text = open(path_to_file, 'r').read()"
   ]
  },
  {
   "cell_type": "code",
   "execution_count": 5,
   "metadata": {
    "colab": {
     "base_uri": "https://localhost:8080/"
    },
    "id": "Duhg9NrUymwO",
    "outputId": "639b0c14-390f-4174-e12f-f2ac07dd5f8d"
   },
   "outputs": [
    {
     "name": "stdout",
     "output_type": "stream",
     "text": [
      "\n",
      "BOOK ONE\n",
      "THE COMING OF THE MARTIANS\n",
      "\n",
      "\n",
      "\n",
      "I.\n",
      "THE EVE OF THE WAR.\n",
      "\n",
      "No one would have believed in the last years of the nineteenth century\n",
      "that this world was being watched keenly and closely by intelligences\n",
      "greater than man’s and yet as mortal as his own; that as men busied\n",
      "themselves about their various concerns they were scrutinised and\n",
      "studied, perhaps almost as narrowly as a man with a microscope might\n",
      "scrutinise the transient creatures that swarm and multiply in a drop of\n",
      "water. With infinite\n"
     ]
    }
   ],
   "source": [
    "print(text[:500])"
   ]
  },
  {
   "cell_type": "markdown",
   "metadata": {
    "id": "XXUmR627m4rd"
   },
   "source": [
    "### Understanding unique characters"
   ]
  },
  {
   "cell_type": "code",
   "execution_count": 6,
   "metadata": {
    "colab": {
     "base_uri": "https://localhost:8080/"
    },
    "id": "IlCgQBRVymwR",
    "outputId": "2c4cac56-cf35-4844-8926-24a00200bbfc"
   },
   "outputs": [
    {
     "name": "stdout",
     "output_type": "stream",
     "text": [
      "['\\n', ' ', '!', '\"', '$', '%', '&', \"'\", '(', ')', '*', '+', ',', '-', '.', '/', '0', '1', '2', '3', '4', '5', '6', '7', '8', '9', ':', ';', '<', '=', '>', '?', 'A', 'B', 'C', 'D', 'E', 'F', 'G', 'H', 'I', 'J', 'K', 'L', 'M', 'N', 'O', 'P', 'Q', 'R', 'S', 'T', 'U', 'V', 'W', 'X', 'Y', 'Z', '[', ']', '_', '`', 'a', 'b', 'c', 'd', 'e', 'f', 'g', 'h', 'i', 'j', 'k', 'l', 'm', 'n', 'o', 'p', 'q', 'r', 's', 't', 'u', 'v', 'w', 'x', 'y', 'z', '{', '}', '£', '°', 'â', 'ä', 'æ', 'ç', 'è', 'é', 'ë', 'ó', 'ô', 'ü', 'œ', 'θ', '—', '‘', '’', '“', '”', '…', '′', '″']\n"
     ]
    },
    {
     "data": {
      "text/plain": [
       "112"
      ]
     },
     "execution_count": 6,
     "metadata": {
      "tags": []
     },
     "output_type": "execute_result"
    }
   ],
   "source": [
    "# The unique characters in the file\n",
    "vocab = sorted(set(text))\n",
    "print(vocab)\n",
    "len(vocab)"
   ]
  },
  {
   "cell_type": "markdown",
   "metadata": {
    "id": "rNnrKn_lL-IJ"
   },
   "source": [
    "## Step 2: Text Processing"
   ]
  },
  {
   "cell_type": "markdown",
   "metadata": {
    "id": "jVHmtFndDqy7"
   },
   "source": [
    "We know a neural network can't take in the raw string data, we need to assign numbers to each character.So we create two dictionaries that can go from numeric index to character and character to numeric index."
   ]
  },
  {
   "cell_type": "markdown",
   "metadata": {
    "id": "LFjSVAlWzf-N"
   },
   "source": [
    "### Text Vectorization\n"
   ]
  },
  {
   "cell_type": "code",
   "execution_count": 7,
   "metadata": {
    "id": "IalZLbvOzf-F"
   },
   "outputs": [],
   "source": [
    "char_to_ind = {u:i for i, u in enumerate(vocab)}"
   ]
  },
  {
   "cell_type": "code",
   "execution_count": 8,
   "metadata": {
    "colab": {
     "base_uri": "https://localhost:8080/"
    },
    "id": "fmmP5iCwm4rp",
    "outputId": "e5ef04e4-f688-4f09-83e3-a9c137975af1"
   },
   "outputs": [
    {
     "data": {
      "text/plain": [
       "{'\\n': 0,\n",
       " ' ': 1,\n",
       " '!': 2,\n",
       " '\"': 3,\n",
       " '$': 4,\n",
       " '%': 5,\n",
       " '&': 6,\n",
       " \"'\": 7,\n",
       " '(': 8,\n",
       " ')': 9,\n",
       " '*': 10,\n",
       " '+': 11,\n",
       " ',': 12,\n",
       " '-': 13,\n",
       " '.': 14,\n",
       " '/': 15,\n",
       " '0': 16,\n",
       " '1': 17,\n",
       " '2': 18,\n",
       " '3': 19,\n",
       " '4': 20,\n",
       " '5': 21,\n",
       " '6': 22,\n",
       " '7': 23,\n",
       " '8': 24,\n",
       " '9': 25,\n",
       " ':': 26,\n",
       " ';': 27,\n",
       " '<': 28,\n",
       " '=': 29,\n",
       " '>': 30,\n",
       " '?': 31,\n",
       " 'A': 32,\n",
       " 'B': 33,\n",
       " 'C': 34,\n",
       " 'D': 35,\n",
       " 'E': 36,\n",
       " 'F': 37,\n",
       " 'G': 38,\n",
       " 'H': 39,\n",
       " 'I': 40,\n",
       " 'J': 41,\n",
       " 'K': 42,\n",
       " 'L': 43,\n",
       " 'M': 44,\n",
       " 'N': 45,\n",
       " 'O': 46,\n",
       " 'P': 47,\n",
       " 'Q': 48,\n",
       " 'R': 49,\n",
       " 'S': 50,\n",
       " 'T': 51,\n",
       " 'U': 52,\n",
       " 'V': 53,\n",
       " 'W': 54,\n",
       " 'X': 55,\n",
       " 'Y': 56,\n",
       " 'Z': 57,\n",
       " '[': 58,\n",
       " ']': 59,\n",
       " '_': 60,\n",
       " '`': 61,\n",
       " 'a': 62,\n",
       " 'b': 63,\n",
       " 'c': 64,\n",
       " 'd': 65,\n",
       " 'e': 66,\n",
       " 'f': 67,\n",
       " 'g': 68,\n",
       " 'h': 69,\n",
       " 'i': 70,\n",
       " 'j': 71,\n",
       " 'k': 72,\n",
       " 'l': 73,\n",
       " 'm': 74,\n",
       " 'n': 75,\n",
       " 'o': 76,\n",
       " 'p': 77,\n",
       " 'q': 78,\n",
       " 'r': 79,\n",
       " 's': 80,\n",
       " 't': 81,\n",
       " 'u': 82,\n",
       " 'v': 83,\n",
       " 'w': 84,\n",
       " 'x': 85,\n",
       " 'y': 86,\n",
       " 'z': 87,\n",
       " '{': 88,\n",
       " '}': 89,\n",
       " '£': 90,\n",
       " '°': 91,\n",
       " 'â': 92,\n",
       " 'ä': 93,\n",
       " 'æ': 94,\n",
       " 'ç': 95,\n",
       " 'è': 96,\n",
       " 'é': 97,\n",
       " 'ë': 98,\n",
       " 'ó': 99,\n",
       " 'ô': 100,\n",
       " 'ü': 101,\n",
       " 'œ': 102,\n",
       " 'θ': 103,\n",
       " '—': 104,\n",
       " '‘': 105,\n",
       " '’': 106,\n",
       " '“': 107,\n",
       " '”': 108,\n",
       " '…': 109,\n",
       " '′': 110,\n",
       " '″': 111}"
      ]
     },
     "execution_count": 8,
     "metadata": {
      "tags": []
     },
     "output_type": "execute_result"
    }
   ],
   "source": [
    "char_to_ind"
   ]
  },
  {
   "cell_type": "code",
   "execution_count": 9,
   "metadata": {
    "id": "30ZYaWAOm4rt"
   },
   "outputs": [],
   "source": [
    "ind_to_char = np.array(vocab)"
   ]
  },
  {
   "cell_type": "code",
   "execution_count": 10,
   "metadata": {
    "colab": {
     "base_uri": "https://localhost:8080/"
    },
    "id": "_6JPOWwJm4rz",
    "outputId": "3b7cabd4-b9b7-491a-f8c4-ceb4a222bc10"
   },
   "outputs": [
    {
     "data": {
      "text/plain": [
       "array(['\\n', ' ', '!', '\"', '$', '%', '&', \"'\", '(', ')', '*', '+', ',',\n",
       "       '-', '.', '/', '0', '1', '2', '3', '4', '5', '6', '7', '8', '9',\n",
       "       ':', ';', '<', '=', '>', '?', 'A', 'B', 'C', 'D', 'E', 'F', 'G',\n",
       "       'H', 'I', 'J', 'K', 'L', 'M', 'N', 'O', 'P', 'Q', 'R', 'S', 'T',\n",
       "       'U', 'V', 'W', 'X', 'Y', 'Z', '[', ']', '_', '`', 'a', 'b', 'c',\n",
       "       'd', 'e', 'f', 'g', 'h', 'i', 'j', 'k', 'l', 'm', 'n', 'o', 'p',\n",
       "       'q', 'r', 's', 't', 'u', 'v', 'w', 'x', 'y', 'z', '{', '}', '£',\n",
       "       '°', 'â', 'ä', 'æ', 'ç', 'è', 'é', 'ë', 'ó', 'ô', 'ü', 'œ', 'θ',\n",
       "       '—', '‘', '’', '“', '”', '…', '′', '″'], dtype='<U1')"
      ]
     },
     "execution_count": 10,
     "metadata": {
      "tags": []
     },
     "output_type": "execute_result"
    }
   ],
   "source": [
    "ind_to_char"
   ]
  },
  {
   "cell_type": "code",
   "execution_count": 11,
   "metadata": {
    "id": "3fhOqV0lm4r2"
   },
   "outputs": [],
   "source": [
    "encoded_text = np.array([char_to_ind[c] for c in text])"
   ]
  },
  {
   "cell_type": "code",
   "execution_count": 12,
   "metadata": {
    "colab": {
     "base_uri": "https://localhost:8080/"
    },
    "id": "axOX7rFom4r5",
    "outputId": "07e54ff7-484b-446b-cd04-df2e7a8da7e8"
   },
   "outputs": [
    {
     "data": {
      "text/plain": [
       "array([ 0, 33, 46, ...,  0,  0,  0])"
      ]
     },
     "execution_count": 12,
     "metadata": {
      "tags": []
     },
     "output_type": "execute_result"
    }
   ],
   "source": [
    "encoded_text"
   ]
  },
  {
   "cell_type": "markdown",
   "metadata": {
    "id": "tZfqhkYCymwX"
   },
   "source": [
    "We now have a mapping we can use to go back and forth from characters to numerics."
   ]
  },
  {
   "cell_type": "code",
   "execution_count": 13,
   "metadata": {
    "colab": {
     "base_uri": "https://localhost:8080/",
     "height": 35
    },
    "id": "tFs1Uza-m4r9",
    "outputId": "6b9989d5-616e-4013-e47f-216f651f0193"
   },
   "outputs": [
    {
     "data": {
      "application/vnd.google.colaboratory.intrinsic+json": {
       "type": "string"
      },
      "text/plain": [
       "'\\nBOOK ONE\\nTHE COMING'"
      ]
     },
     "execution_count": 13,
     "metadata": {
      "tags": []
     },
     "output_type": "execute_result"
    }
   ],
   "source": [
    "sample = text[:20]\n",
    "sample"
   ]
  },
  {
   "cell_type": "code",
   "execution_count": 14,
   "metadata": {
    "colab": {
     "base_uri": "https://localhost:8080/"
    },
    "id": "gIqUCK5Am4sB",
    "outputId": "31f87c78-d280-42d2-d14e-3711953827df"
   },
   "outputs": [
    {
     "data": {
      "text/plain": [
       "array([ 0, 33, 46, 46, 42,  1, 46, 45, 36,  0, 51, 39, 36,  1, 34, 46, 44,\n",
       "       40, 45, 38])"
      ]
     },
     "execution_count": 14,
     "metadata": {
      "tags": []
     },
     "output_type": "execute_result"
    }
   ],
   "source": [
    "encoded_text[:20]"
   ]
  },
  {
   "cell_type": "markdown",
   "metadata": {
    "id": "bbmsf23Bymwe"
   },
   "source": [
    "## Step 3: Creating Batches\n"
   ]
  },
  {
   "cell_type": "markdown",
   "metadata": {
    "id": "TM5vvlOcEUvH"
   },
   "source": [
    "Overall what we are trying to achieve is to have the model predict the next highest probability character given a historical sequence of characters. Its up to us (the user) to choose how long that historic sequence. Too short a sequence and we don't have enough information (e.g. given the letter \"a\" , what is the next character) , too long a sequence and training will take too long and most likely overfit to sequence characters that are irrelevant to characters farther out. While there is no correct sequence length choice, we should consider the text itself, how long normal phrases are in it, and a reasonable idea of what characters/words are relevant to each other."
   ]
  },
  {
   "cell_type": "code",
   "execution_count": 15,
   "metadata": {
    "colab": {
     "base_uri": "https://localhost:8080/"
    },
    "id": "pAvUYFk7m4sF",
    "outputId": "ce9c13a7-b3ee-453a-cc04-42cbbc27a9b6"
   },
   "outputs": [
    {
     "name": "stdout",
     "output_type": "stream",
     "text": [
      "\n",
      "BOOK ONE\n",
      "THE COMING OF THE MARTIANS\n",
      "\n",
      "\n",
      "\n",
      "I.\n",
      "THE EVE OF THE WAR.\n",
      "\n",
      "No one would have believed in the last years of the nineteenth century\n",
      "that this world was being watched keenly and closely by intelligences\n",
      "greater than man’s and yet as mortal as his own; that as men busied\n",
      "themselves about their various concerns they were scrutinised and\n",
      "studied, perhaps almost as narrowly as a man with a microscope might\n",
      "scrutinise the transient creatures that swarm and multiply in a drop of\n",
      "water. With infinite\n"
     ]
    }
   ],
   "source": [
    "print(text[:500])"
   ]
  },
  {
   "cell_type": "code",
   "execution_count": 16,
   "metadata": {
    "id": "D45OYgOfm4sJ"
   },
   "outputs": [],
   "source": [
    "line = \"From fairest creatures we desire increase\""
   ]
  },
  {
   "cell_type": "code",
   "execution_count": 17,
   "metadata": {
    "colab": {
     "base_uri": "https://localhost:8080/"
    },
    "id": "7dKiEVN8m4sL",
    "outputId": "b7ffd1e5-a821-48a5-d254-d0cb745374a2"
   },
   "outputs": [
    {
     "data": {
      "text/plain": [
       "41"
      ]
     },
     "execution_count": 17,
     "metadata": {
      "tags": []
     },
     "output_type": "execute_result"
    }
   ],
   "source": [
    "len(line)"
   ]
  },
  {
   "cell_type": "code",
   "execution_count": 18,
   "metadata": {
    "id": "olX67f6-m4sP"
   },
   "outputs": [],
   "source": [
    "part_stanza = \"\"\"From fairest creatures we desire increase,\n",
    "  That thereby beauty's rose might never die,\n",
    "  But as the riper should by time decease,\"\"\""
   ]
  },
  {
   "cell_type": "code",
   "execution_count": 19,
   "metadata": {
    "colab": {
     "base_uri": "https://localhost:8080/"
    },
    "id": "qal7MQnqm4sQ",
    "outputId": "23dc8b72-6bdd-4696-b3f3-522e78ff3b67"
   },
   "outputs": [
    {
     "data": {
      "text/plain": [
       "131"
      ]
     },
     "execution_count": 19,
     "metadata": {
      "tags": []
     },
     "output_type": "execute_result"
    }
   ],
   "source": [
    "len(part_stanza)"
   ]
  },
  {
   "cell_type": "markdown",
   "metadata": {
    "id": "hgsVvVxnymwf"
   },
   "source": [
    "### Training Sequences\n",
    "\n",
    "We can use the `tf.data.Dataset.from_tensor_slices` function to convert a text vector into a stream of character indices."
   ]
  },
  {
   "cell_type": "code",
   "execution_count": 20,
   "metadata": {
    "id": "0UHJDA39zf-O"
   },
   "outputs": [],
   "source": [
    "seq_len = 120"
   ]
  },
  {
   "cell_type": "code",
   "execution_count": 21,
   "metadata": {
    "id": "7VRSK4cOm4sZ"
   },
   "outputs": [],
   "source": [
    "total_num_seq = len(text)//(seq_len+1)"
   ]
  },
  {
   "cell_type": "code",
   "execution_count": 22,
   "metadata": {
    "colab": {
     "base_uri": "https://localhost:8080/"
    },
    "id": "xtW0jbbvm4sc",
    "outputId": "d8970196-e13f-497e-f5ed-21ff4a94bd8b"
   },
   "outputs": [
    {
     "data": {
      "text/plain": [
       "59360"
      ]
     },
     "execution_count": 22,
     "metadata": {
      "tags": []
     },
     "output_type": "execute_result"
    }
   ],
   "source": [
    "total_num_seq"
   ]
  },
  {
   "cell_type": "code",
   "execution_count": 23,
   "metadata": {
    "colab": {
     "base_uri": "https://localhost:8080/"
    },
    "id": "ciatnowvm4se",
    "outputId": "c87d80bd-1b7d-491f-cf0b-4383af1677b7"
   },
   "outputs": [
    {
     "name": "stdout",
     "output_type": "stream",
     "text": [
      "\n",
      "\n",
      "B\n",
      "O\n",
      "O\n",
      "K\n",
      " \n",
      "O\n",
      "N\n",
      "E\n",
      "\n",
      "\n",
      "T\n",
      "H\n",
      "E\n",
      " \n",
      "C\n",
      "O\n",
      "M\n",
      "I\n",
      "N\n",
      "G\n",
      " \n",
      "O\n",
      "F\n",
      " \n",
      "T\n",
      "H\n",
      "E\n",
      " \n",
      "M\n",
      "A\n",
      "R\n",
      "T\n",
      "I\n",
      "A\n",
      "N\n",
      "S\n",
      "\n",
      "\n",
      "\n",
      "\n",
      "\n",
      "\n",
      "\n",
      "\n",
      "I\n",
      ".\n",
      "\n",
      "\n",
      "T\n",
      "H\n",
      "E\n",
      " \n",
      "E\n",
      "V\n",
      "E\n",
      " \n",
      "O\n",
      "F\n",
      " \n",
      "T\n",
      "H\n",
      "E\n",
      " \n",
      "W\n",
      "A\n",
      "R\n",
      ".\n",
      "\n",
      "\n",
      "\n",
      "\n",
      "N\n",
      "o\n",
      " \n",
      "o\n",
      "n\n",
      "e\n",
      " \n",
      "w\n",
      "o\n",
      "u\n",
      "l\n",
      "d\n",
      " \n",
      "h\n",
      "a\n",
      "v\n",
      "e\n",
      " \n",
      "b\n",
      "e\n",
      "l\n",
      "i\n",
      "e\n",
      "v\n",
      "e\n",
      "d\n",
      " \n",
      "i\n",
      "n\n",
      " \n",
      "t\n",
      "h\n",
      "e\n",
      " \n",
      "l\n",
      "a\n",
      "s\n",
      "t\n",
      " \n",
      "y\n",
      "e\n",
      "a\n",
      "r\n",
      "s\n",
      " \n",
      "o\n",
      "f\n",
      " \n",
      "t\n",
      "h\n",
      "e\n",
      " \n",
      "n\n",
      "i\n",
      "n\n",
      "e\n",
      "t\n",
      "e\n",
      "e\n",
      "n\n",
      "t\n",
      "h\n",
      " \n",
      "c\n",
      "e\n",
      "n\n",
      "t\n",
      "u\n",
      "r\n",
      "y\n",
      "\n",
      "\n",
      "t\n",
      "h\n",
      "a\n",
      "t\n",
      " \n",
      "t\n",
      "h\n",
      "i\n",
      "s\n",
      " \n",
      "w\n",
      "o\n",
      "r\n",
      "l\n",
      "d\n",
      " \n",
      "w\n",
      "a\n",
      "s\n",
      " \n",
      "b\n",
      "e\n",
      "i\n",
      "n\n",
      "g\n",
      " \n",
      "w\n",
      "a\n",
      "t\n",
      "c\n",
      "h\n",
      "e\n",
      "d\n",
      " \n",
      "k\n",
      "e\n",
      "e\n",
      "n\n",
      "l\n",
      "y\n",
      " \n",
      "a\n",
      "n\n",
      "d\n",
      " \n",
      "c\n",
      "l\n",
      "o\n",
      "s\n",
      "e\n",
      "l\n",
      "y\n",
      " \n",
      "b\n",
      "y\n",
      " \n",
      "i\n",
      "n\n",
      "t\n",
      "e\n",
      "l\n",
      "l\n",
      "i\n",
      "g\n",
      "e\n",
      "n\n",
      "c\n",
      "e\n",
      "s\n",
      "\n",
      "\n",
      "g\n",
      "r\n",
      "e\n",
      "a\n",
      "t\n",
      "e\n",
      "r\n",
      " \n",
      "t\n",
      "h\n",
      "a\n",
      "n\n",
      " \n",
      "m\n",
      "a\n",
      "n\n",
      "’\n",
      "s\n",
      " \n",
      "a\n",
      "n\n",
      "d\n",
      " \n",
      "y\n",
      "e\n",
      "t\n",
      " \n",
      "a\n",
      "s\n",
      " \n",
      "m\n",
      "o\n",
      "r\n",
      "t\n",
      "a\n",
      "l\n",
      " \n",
      "a\n",
      "s\n",
      " \n",
      "h\n",
      "i\n",
      "s\n",
      " \n",
      "o\n",
      "w\n",
      "n\n",
      ";\n",
      " \n",
      "t\n",
      "h\n",
      "a\n",
      "t\n",
      " \n",
      "a\n",
      "s\n",
      " \n",
      "m\n",
      "e\n",
      "n\n",
      " \n",
      "b\n",
      "u\n",
      "s\n",
      "i\n",
      "e\n",
      "d\n",
      "\n",
      "\n",
      "t\n",
      "h\n",
      "e\n",
      "m\n",
      "s\n",
      "e\n",
      "l\n",
      "v\n",
      "e\n",
      "s\n",
      " \n",
      "a\n",
      "b\n",
      "o\n",
      "u\n",
      "t\n",
      " \n",
      "t\n",
      "h\n",
      "e\n",
      "i\n",
      "r\n",
      " \n",
      "v\n",
      "a\n",
      "r\n",
      "i\n",
      "o\n",
      "u\n",
      "s\n",
      " \n",
      "c\n",
      "o\n",
      "n\n",
      "c\n",
      "e\n",
      "r\n",
      "n\n",
      "s\n",
      " \n",
      "t\n",
      "h\n",
      "e\n",
      "y\n",
      " \n",
      "w\n",
      "e\n",
      "r\n",
      "e\n",
      " \n",
      "s\n",
      "c\n",
      "r\n",
      "u\n",
      "t\n",
      "i\n",
      "n\n",
      "i\n",
      "s\n",
      "e\n",
      "d\n",
      " \n",
      "a\n",
      "n\n",
      "d\n",
      "\n",
      "\n",
      "s\n",
      "t\n",
      "u\n",
      "d\n",
      "i\n",
      "e\n",
      "d\n",
      ",\n",
      " \n",
      "p\n",
      "e\n",
      "r\n",
      "h\n",
      "a\n",
      "p\n",
      "s\n",
      " \n",
      "a\n",
      "l\n",
      "m\n",
      "o\n",
      "s\n",
      "t\n",
      " \n",
      "a\n",
      "s\n",
      " \n",
      "n\n",
      "a\n",
      "r\n",
      "r\n",
      "o\n",
      "w\n",
      "l\n",
      "y\n",
      " \n",
      "a\n",
      "s\n",
      " \n",
      "a\n",
      " \n",
      "m\n",
      "a\n",
      "n\n",
      " \n",
      "w\n",
      "i\n",
      "t\n",
      "h\n",
      " \n",
      "a\n",
      " \n",
      "m\n",
      "i\n",
      "c\n",
      "r\n",
      "o\n",
      "s\n",
      "c\n",
      "o\n",
      "p\n",
      "e\n",
      " \n",
      "m\n",
      "i\n",
      "g\n",
      "h\n",
      "t\n",
      "\n",
      "\n",
      "s\n",
      "c\n",
      "r\n",
      "u\n",
      "t\n",
      "i\n",
      "n\n",
      "i\n",
      "s\n",
      "e\n",
      " \n",
      "t\n",
      "h\n",
      "e\n",
      " \n",
      "t\n",
      "r\n",
      "a\n",
      "n\n",
      "s\n",
      "i\n",
      "e\n",
      "n\n",
      "t\n",
      " \n",
      "c\n",
      "r\n",
      "e\n",
      "a\n",
      "t\n",
      "u\n",
      "r\n",
      "e\n",
      "s\n",
      " \n",
      "t\n",
      "h\n",
      "a\n",
      "t\n",
      " \n",
      "s\n",
      "w\n",
      "a\n",
      "r\n",
      "m\n",
      " \n",
      "a\n",
      "n\n",
      "d\n",
      " \n",
      "m\n",
      "u\n",
      "l\n",
      "t\n",
      "i\n",
      "p\n",
      "l\n",
      "y\n",
      " \n",
      "i\n",
      "n\n",
      " \n",
      "a\n",
      " \n",
      "d\n",
      "r\n",
      "o\n",
      "p\n",
      " \n",
      "o\n",
      "f\n",
      "\n",
      "\n",
      "w\n",
      "a\n",
      "t\n",
      "e\n",
      "r\n",
      ".\n",
      " \n",
      "W\n",
      "i\n",
      "t\n",
      "h\n",
      " \n",
      "i\n",
      "n\n",
      "f\n",
      "i\n",
      "n\n",
      "i\n",
      "t\n",
      "e\n"
     ]
    }
   ],
   "source": [
    "# Create Training Sequences\n",
    "char_dataset = tf.data.Dataset.from_tensor_slices(encoded_text)\n",
    "\n",
    "for i in char_dataset.take(500):\n",
    "     print(ind_to_char[i.numpy()])"
   ]
  },
  {
   "cell_type": "markdown",
   "metadata": {
    "id": "-ZSYAcQV8OGP"
   },
   "source": [
    "The **batch** method converts these individual character calls into sequences we can feed in as a batch. We use seq_len+1 because of zero indexing. Here is what drop_remainder means:\n",
    "\n",
    "drop_remainder: (Optional.) A `tf.bool` scalar `tf.Tensor`, representing\n",
    "    whether the last batch should be dropped in the case it has fewer than\n",
    "    `batch_size` elements; the default behavior is not to drop the smaller\n",
    "    batch.\n",
    "\n"
   ]
  },
  {
   "cell_type": "code",
   "execution_count": 24,
   "metadata": {
    "id": "l4hkDU3i7ozi"
   },
   "outputs": [],
   "source": [
    "sequences = char_dataset.batch(seq_len+1, drop_remainder=True)"
   ]
  },
  {
   "cell_type": "markdown",
   "metadata": {
    "id": "UbLcIPBj_mWZ"
   },
   "source": [
    "Now that we have our sequences, we will perform the following steps for each one to create our target text sequences:\n",
    "\n",
    "1. Grab the input text sequence\n",
    "2. Assign the target text sequence as the input text sequence shifted by one step forward\n",
    "3. Group them together as a tuple"
   ]
  },
  {
   "cell_type": "code",
   "execution_count": 25,
   "metadata": {
    "id": "9NGu-FkO_kYU"
   },
   "outputs": [],
   "source": [
    "def create_seq_targets(seq):\n",
    "    input_txt = seq[:-1]\n",
    "    target_txt = seq[1:]\n",
    "    return input_txt, target_txt"
   ]
  },
  {
   "cell_type": "code",
   "execution_count": 26,
   "metadata": {
    "id": "HszljTg8m4so"
   },
   "outputs": [],
   "source": [
    "dataset = sequences.map(create_seq_targets)"
   ]
  },
  {
   "cell_type": "code",
   "execution_count": 27,
   "metadata": {
    "colab": {
     "base_uri": "https://localhost:8080/"
    },
    "id": "JkPa7AMrm4sq",
    "outputId": "d8095d2a-b669-4c03-bc38-5f46c8dd0582"
   },
   "outputs": [
    {
     "name": "stdout",
     "output_type": "stream",
     "text": [
      "[ 0 33 46 46 42  1 46 45 36  0 51 39 36  1 34 46 44 40 45 38  1 46 37  1\n",
      " 51 39 36  1 44 32 49 51 40 32 45 50  0  0  0  0 40 14  0 51 39 36  1 36\n",
      " 53 36  1 46 37  1 51 39 36  1 54 32 49 14  0  0 45 76  1 76 75 66  1 84\n",
      " 76 82 73 65  1 69 62 83 66  1 63 66 73 70 66 83 66 65  1 70 75  1 81 69\n",
      " 66  1 73 62 80 81  1 86 66 62 79 80  1 76 67  1 81 69 66  1 75 70 75 66]\n",
      "\n",
      "BOOK ONE\n",
      "THE COMING OF THE MARTIANS\n",
      "\n",
      "\n",
      "\n",
      "I.\n",
      "THE EVE OF THE WAR.\n",
      "\n",
      "No one would have believed in the last years of the nine\n",
      "\n",
      "\n",
      "[33 46 46 42  1 46 45 36  0 51 39 36  1 34 46 44 40 45 38  1 46 37  1 51\n",
      " 39 36  1 44 32 49 51 40 32 45 50  0  0  0  0 40 14  0 51 39 36  1 36 53\n",
      " 36  1 46 37  1 51 39 36  1 54 32 49 14  0  0 45 76  1 76 75 66  1 84 76\n",
      " 82 73 65  1 69 62 83 66  1 63 66 73 70 66 83 66 65  1 70 75  1 81 69 66\n",
      "  1 73 62 80 81  1 86 66 62 79 80  1 76 67  1 81 69 66  1 75 70 75 66 81]\n",
      "BOOK ONE\n",
      "THE COMING OF THE MARTIANS\n",
      "\n",
      "\n",
      "\n",
      "I.\n",
      "THE EVE OF THE WAR.\n",
      "\n",
      "No one would have believed in the last years of the ninet\n"
     ]
    }
   ],
   "source": [
    "for input_txt, target_txt in  dataset.take(1):\n",
    "    print(input_txt.numpy())\n",
    "    print(''.join(ind_to_char[input_txt.numpy()]))\n",
    "    print('\\n')\n",
    "    print(target_txt.numpy())\n",
    "    # There is an extra whitespace!\n",
    "    print(''.join(ind_to_char[target_txt.numpy()]))"
   ]
  },
  {
   "cell_type": "markdown",
   "metadata": {
    "id": "MJdfPmdqzf-R"
   },
   "source": [
    "### Generating training batches\n"
   ]
  },
  {
   "cell_type": "code",
   "execution_count": 28,
   "metadata": {
    "id": "p2pGotuNzf-S"
   },
   "outputs": [],
   "source": [
    "# Batch size\n",
    "batch_size = 128\n",
    "\n",
    "# Buffer size to shuffle the dataset so it doesn't attempt to shuffle\n",
    "# the entire sequence in memory. Instead, it maintains a buffer in which it shuffles elements\n",
    "buffer_size = 10000\n",
    "\n",
    "dataset = dataset.shuffle(buffer_size).batch(batch_size, drop_remainder=True)"
   ]
  },
  {
   "cell_type": "code",
   "execution_count": 29,
   "metadata": {
    "colab": {
     "base_uri": "https://localhost:8080/"
    },
    "id": "gmcCALymm4su",
    "outputId": "d5f52ceb-2bcc-4442-c839-491f46309ce8"
   },
   "outputs": [
    {
     "data": {
      "text/plain": [
       "<BatchDataset shapes: ((128, 120), (128, 120)), types: (tf.int64, tf.int64)>"
      ]
     },
     "execution_count": 29,
     "metadata": {
      "tags": []
     },
     "output_type": "execute_result"
    }
   ],
   "source": [
    "dataset"
   ]
  },
  {
   "cell_type": "markdown",
   "metadata": {
    "id": "r6oUuElIMgVx"
   },
   "source": [
    "## Step 4: Creating the Model"
   ]
  },
  {
   "cell_type": "markdown",
   "metadata": {
    "id": "m8gPwEjRzf-Z"
   },
   "source": [
    "We will use an LSTM based model with a few extra features, including an embedding layer to start off with and **two** LSTM layers. We based this model architecture off the [DeepMoji](https://deepmoji.mit.edu/) and the original source code can be found [here](https://github.com/bfelbo/DeepMoji).\n",
    "\n",
    "The embedding layer will serve as the input layer, which essentially creates a lookup table that maps the numbers indices of each character to a vector with \"embedding dim\" number of dimensions. As you can imagine, the larger this embedding size, the more complex the training. This is similar to the idea behind word2vec, where words are mapped to some n-dimensional space. Embedding before feeding straight into the LSTM usually leads to more realisitic results."
   ]
  },
  {
   "cell_type": "code",
   "execution_count": 30,
   "metadata": {
    "id": "zHT8cLh7EAsg"
   },
   "outputs": [],
   "source": [
    "# Length of the vocabulary in chars\n",
    "vocab_size = len(vocab)\n",
    "\n",
    "# The embedding dimension\n",
    "embed_dim = 64\n",
    "\n",
    "# Number of RNN units\n",
    "rnn_neurons = 1026"
   ]
  },
  {
   "cell_type": "markdown",
   "metadata": {
    "id": "Atb060h5m4s0"
   },
   "source": []
  },
  {
   "cell_type": "code",
   "execution_count": 31,
   "metadata": {
    "id": "YeRlEXgym4s1"
   },
   "outputs": [],
   "source": [
    "from tensorflow.keras.models import Sequential\n",
    "from tensorflow.keras.layers import LSTM,Dense,Embedding,Dropout,GRU"
   ]
  },
  {
   "cell_type": "markdown",
   "metadata": {
    "id": "FcMbIy-xj-w-"
   },
   "source": [
    "### Setting up Loss Function\n"
   ]
  },
  {
   "cell_type": "code",
   "execution_count": 32,
   "metadata": {
    "id": "VoFVGKlNkJfW"
   },
   "outputs": [],
   "source": [
    "from tensorflow.keras.losses import sparse_categorical_crossentropy"
   ]
  },
  {
   "cell_type": "code",
   "execution_count": 33,
   "metadata": {
    "colab": {
     "base_uri": "https://localhost:8080/"
    },
    "id": "sblCzZoslZKH",
    "outputId": "c0f7b4d8-66f0-4eef-a8b7-e4896cf648d0"
   },
   "outputs": [
    {
     "name": "stdout",
     "output_type": "stream",
     "text": [
      "Help on function sparse_categorical_crossentropy in module tensorflow.python.keras.losses:\n",
      "\n",
      "sparse_categorical_crossentropy(y_true, y_pred, from_logits=False, axis=-1)\n",
      "    Computes the sparse categorical crossentropy loss.\n",
      "    \n",
      "    Standalone usage:\n",
      "    \n",
      "    >>> y_true = [1, 2]\n",
      "    >>> y_pred = [[0.05, 0.95, 0], [0.1, 0.8, 0.1]]\n",
      "    >>> loss = tf.keras.losses.sparse_categorical_crossentropy(y_true, y_pred)\n",
      "    >>> assert loss.shape == (2,)\n",
      "    >>> loss.numpy()\n",
      "    array([0.0513, 2.303], dtype=float32)\n",
      "    \n",
      "    Args:\n",
      "      y_true: Ground truth values.\n",
      "      y_pred: The predicted values.\n",
      "      from_logits: Whether `y_pred` is expected to be a logits tensor. By default,\n",
      "        we assume that `y_pred` encodes a probability distribution.\n",
      "      axis: (Optional) Defaults to -1. The dimension along which the entropy is\n",
      "        computed.\n",
      "    \n",
      "    Returns:\n",
      "      Sparse categorical crossentropy loss value.\n",
      "\n"
     ]
    }
   ],
   "source": [
    "help(sparse_categorical_crossentropy)"
   ]
  },
  {
   "cell_type": "markdown",
   "metadata": {
    "id": "y5N4Qxbij5gY"
   },
   "source": []
  },
  {
   "cell_type": "code",
   "execution_count": 34,
   "metadata": {
    "id": "FrOOK61Olm1C"
   },
   "outputs": [],
   "source": [
    "def sparse_cat_loss(y_true,y_pred):\n",
    "  return sparse_categorical_crossentropy(y_true, y_pred, from_logits=True)"
   ]
  },
  {
   "cell_type": "code",
   "execution_count": 35,
   "metadata": {
    "id": "MtCrdfzEI2N0"
   },
   "outputs": [],
   "source": [
    "def create_model(vocab_size, embed_dim, rnn_neurons, batch_size):\n",
    "    model = Sequential()\n",
    "    model.add(Embedding(vocab_size, embed_dim,batch_input_shape=[batch_size, None]))\n",
    "    model.add(GRU(rnn_neurons,return_sequences=True,stateful=True,recurrent_initializer='glorot_uniform'))\n",
    "    # Final Dense Layer to Predict\n",
    "    model.add(Dense(vocab_size))\n",
    "    model.compile(optimizer='adam', loss=sparse_cat_loss) \n",
    "    return model"
   ]
  },
  {
   "cell_type": "code",
   "execution_count": 36,
   "metadata": {
    "id": "wwsrpOik5zhv"
   },
   "outputs": [],
   "source": [
    "model = create_model(\n",
    "  vocab_size = vocab_size,\n",
    "  embed_dim=embed_dim,\n",
    "  rnn_neurons=rnn_neurons,\n",
    "  batch_size=batch_size)"
   ]
  },
  {
   "cell_type": "code",
   "execution_count": 37,
   "metadata": {
    "colab": {
     "base_uri": "https://localhost:8080/"
    },
    "id": "liXuTFYMm4s6",
    "outputId": "ad233ed1-eeac-44fd-9bb5-509a9528885d"
   },
   "outputs": [
    {
     "name": "stdout",
     "output_type": "stream",
     "text": [
      "Model: \"sequential\"\n",
      "_________________________________________________________________\n",
      "Layer (type)                 Output Shape              Param #   \n",
      "=================================================================\n",
      "embedding (Embedding)        (128, None, 64)           7168      \n",
      "_________________________________________________________________\n",
      "gru (GRU)                    (128, None, 1026)         3361176   \n",
      "_________________________________________________________________\n",
      "dense (Dense)                (128, None, 112)          115024    \n",
      "=================================================================\n",
      "Total params: 3,483,368\n",
      "Trainable params: 3,483,368\n",
      "Non-trainable params: 0\n",
      "_________________________________________________________________\n"
     ]
    }
   ],
   "source": [
    "model.summary()"
   ]
  },
  {
   "cell_type": "markdown",
   "metadata": {
    "id": "LJL0Q0YPY6Ee"
   },
   "source": [
    "## Step 5: Training the model\n",
    "\n",
    "\n"
   ]
  },
  {
   "cell_type": "code",
   "execution_count": 38,
   "metadata": {
    "colab": {
     "base_uri": "https://localhost:8080/"
    },
    "id": "A4ygvfHn-wan",
    "outputId": "be26a605-391a-4b60-d853-2c4f346757af"
   },
   "outputs": [
    {
     "name": "stdout",
     "output_type": "stream",
     "text": [
      "(128, 120, 112)  <=== (batch_size, sequence_length, vocab_size)\n"
     ]
    }
   ],
   "source": [
    "for input_example_batch, target_example_batch in dataset.take(1):\n",
    "\n",
    "  # Predict off some random batch\n",
    "  example_batch_predictions = model(input_example_batch)\n",
    "\n",
    "  # Display the dimensions of the predictions\n",
    "  print(example_batch_predictions.shape, \" <=== (batch_size, sequence_length, vocab_size)\")\n"
   ]
  },
  {
   "cell_type": "code",
   "execution_count": 39,
   "metadata": {
    "colab": {
     "base_uri": "https://localhost:8080/"
    },
    "id": "5ld8z3LPBAuv",
    "outputId": "04dffadb-2bb2-42dc-be66-3b50fd74fa71"
   },
   "outputs": [
    {
     "data": {
      "text/plain": [
       "<tf.Tensor: shape=(128, 120, 112), dtype=float32, numpy=\n",
       "array([[[-4.6868906e-03,  1.7249676e-04,  2.6533869e-03, ...,\n",
       "         -2.9775954e-03,  1.3485337e-03, -1.8939876e-03],\n",
       "        [-8.1245145e-03, -7.3904484e-03,  6.3081165e-03, ...,\n",
       "         -1.2581771e-03,  6.1745932e-03, -2.9967452e-04],\n",
       "        [-5.4868604e-03, -3.4556896e-03,  8.6797751e-04, ...,\n",
       "         -6.1116945e-03,  7.1613132e-03, -1.1668691e-03],\n",
       "        ...,\n",
       "        [ 1.9273338e-03,  1.5813260e-03,  2.3270492e-03, ...,\n",
       "          2.7080327e-05,  4.9898778e-03,  1.8972355e-04],\n",
       "        [ 3.3142904e-03, -5.3595467e-03, -5.7284860e-03, ...,\n",
       "          1.6457392e-03,  6.8292459e-03,  7.4292156e-03],\n",
       "        [ 1.8615928e-03, -1.5379163e-03, -3.8789979e-03, ...,\n",
       "         -4.3346495e-03,  9.8459898e-03, -1.8586889e-04]],\n",
       "\n",
       "       [[-1.7119254e-03,  2.2339786e-03,  2.4650595e-03, ...,\n",
       "         -1.5465171e-03, -3.0206128e-03,  3.7206125e-03],\n",
       "        [ 1.3408975e-03,  4.3012253e-03, -1.0392750e-04, ...,\n",
       "         -3.8454540e-03, -5.1334347e-03,  7.9775108e-03],\n",
       "        [-2.0677900e-04,  4.3525617e-03, -5.3475174e-04, ...,\n",
       "         -6.2629175e-03,  2.7846463e-03,  2.3053796e-03],\n",
       "        ...,\n",
       "        [ 8.6504576e-04,  1.6528326e-03,  2.5378419e-03, ...,\n",
       "         -3.5208643e-03,  5.4400455e-04, -2.3383356e-03],\n",
       "        [ 3.8032997e-03,  1.0947553e-03,  2.9501083e-04, ...,\n",
       "         -6.4844545e-03, -2.6576475e-03,  5.5128955e-03],\n",
       "        [ 1.7191560e-03,  1.3550970e-03, -7.5871864e-04, ...,\n",
       "         -8.4003713e-03,  4.2545465e-03,  1.6949767e-03]],\n",
       "\n",
       "       [[ 1.6072127e-03, -4.1430094e-03, -6.6249364e-04, ...,\n",
       "         -7.2708957e-05, -6.3554575e-03, -8.5856300e-04],\n",
       "        [ 3.6501074e-03, -1.0875885e-03, -1.1380229e-03, ...,\n",
       "         -4.3368638e-03, -5.1581068e-03,  5.2160989e-03],\n",
       "        [-2.8378582e-03, -2.5274546e-04,  1.8740954e-03, ...,\n",
       "         -5.2457545e-03, -1.4724503e-03,  2.2258090e-03],\n",
       "        ...,\n",
       "        [ 2.1069805e-04,  2.7587297e-05,  3.1806184e-03, ...,\n",
       "         -2.5341702e-03,  1.9583800e-03,  6.5432786e-04],\n",
       "        [ 3.4909286e-03,  2.7486862e-04,  8.0278015e-04, ...,\n",
       "         -6.0140360e-03, -1.8683153e-03,  7.8645926e-03],\n",
       "        [ 1.5645900e-03,  1.0095427e-03, -4.1910380e-04, ...,\n",
       "         -8.1534339e-03,  4.7678188e-03,  3.3241294e-03]],\n",
       "\n",
       "       ...,\n",
       "\n",
       "       [[-4.8687761e-03,  3.7189543e-03,  1.8890494e-03, ...,\n",
       "          3.1847293e-03, -3.8845569e-03,  2.2994820e-03],\n",
       "        [-6.8398914e-03,  4.0704161e-03,  2.4902599e-03, ...,\n",
       "          6.2135849e-03, -6.1052870e-03,  5.5349641e-03],\n",
       "        [-3.1828857e-03,  1.0586717e-03,  3.3843762e-04, ...,\n",
       "          1.9570175e-04,  2.9018053e-03,  2.5728252e-03],\n",
       "        ...,\n",
       "        [ 9.5801876e-04,  2.2998683e-03,  1.2794510e-03, ...,\n",
       "         -1.2692241e-03,  4.2490163e-03,  1.5102137e-03],\n",
       "        [-3.9456184e-03,  1.7330436e-03, -1.3947202e-03, ...,\n",
       "         -8.0354819e-03,  3.7377935e-03,  7.2732833e-03],\n",
       "        [ 1.3570988e-03,  2.8983119e-03, -2.0422640e-03, ...,\n",
       "         -8.7346165e-03, -4.8087316e-04,  8.3403429e-03]],\n",
       "\n",
       "       [[-2.6749887e-03,  2.4032095e-03, -2.4087301e-03, ...,\n",
       "         -5.9045531e-04,  4.3814420e-03,  3.0699262e-04],\n",
       "        [-2.7158558e-03,  1.1975050e-03, -1.6491865e-03, ...,\n",
       "         -5.7097021e-03,  8.1176180e-03, -4.0172124e-03],\n",
       "        [-1.5949216e-03, -5.7241466e-04, -2.3479136e-03, ...,\n",
       "         -1.2053453e-03,  7.6609892e-03,  5.0466298e-03],\n",
       "        ...,\n",
       "        [ 1.0993797e-03,  2.3911903e-03,  3.1270811e-04, ...,\n",
       "          2.5331832e-03,  7.0625874e-03, -9.4432413e-04],\n",
       "        [-4.4062342e-03, -4.7451560e-03,  4.3258020e-03, ...,\n",
       "          3.0904666e-03,  8.9477496e-03,  3.5999680e-04],\n",
       "        [-2.2892782e-03, -1.0697614e-02, -5.1100547e-03, ...,\n",
       "          6.2818239e-03,  7.9244049e-03,  1.0689143e-03]],\n",
       "\n",
       "       [[ 1.6072127e-03, -4.1430094e-03, -6.6249364e-04, ...,\n",
       "         -7.2708957e-05, -6.3554575e-03, -8.5856300e-04],\n",
       "        [ 5.9489993e-04, -4.5177997e-03, -1.1623065e-03, ...,\n",
       "         -3.5411622e-03, -7.3534047e-04,  8.8367308e-04],\n",
       "        [-1.5691746e-03,  2.0447033e-03,  1.4865774e-03, ...,\n",
       "         -5.2788830e-04,  2.4834308e-03, -1.2840378e-03],\n",
       "        ...,\n",
       "        [-1.6807965e-03, -1.6473854e-03, -6.3154278e-03, ...,\n",
       "         -5.9664261e-04, -2.2600938e-03,  7.4795131e-03],\n",
       "        [ 8.7117020e-04, -4.4404836e-03, -5.1841550e-03, ...,\n",
       "          1.7385042e-04, -6.3815857e-03,  3.4052366e-03],\n",
       "        [-2.3849264e-03,  2.8993762e-03, -1.7832484e-03, ...,\n",
       "          2.6262989e-03,  5.3432886e-04, -5.3924805e-04]]], dtype=float32)>"
      ]
     },
     "execution_count": 39,
     "metadata": {
      "tags": []
     },
     "output_type": "execute_result"
    }
   ],
   "source": [
    "example_batch_predictions"
   ]
  },
  {
   "cell_type": "code",
   "execution_count": 40,
   "metadata": {
    "id": "_achqjT-BGyY"
   },
   "outputs": [],
   "source": [
    "sampled_indices = tf.random.categorical(example_batch_predictions[0], num_samples=1)"
   ]
  },
  {
   "cell_type": "code",
   "execution_count": 41,
   "metadata": {
    "colab": {
     "base_uri": "https://localhost:8080/"
    },
    "id": "xWrPFk2nBJX4",
    "outputId": "7d5fa43a-aa76-409f-c186-f017bce36a45"
   },
   "outputs": [
    {
     "data": {
      "text/plain": [
       "<tf.Tensor: shape=(120, 1), dtype=int64, numpy=\n",
       "array([[ 45],\n",
       "       [ 80],\n",
       "       [  9],\n",
       "       [ 92],\n",
       "       [ 37],\n",
       "       [ 13],\n",
       "       [ 68],\n",
       "       [ 37],\n",
       "       [ 86],\n",
       "       [ 94],\n",
       "       [ 81],\n",
       "       [ 99],\n",
       "       [ 79],\n",
       "       [ 45],\n",
       "       [ 75],\n",
       "       [ 84],\n",
       "       [ 64],\n",
       "       [ 25],\n",
       "       [ 55],\n",
       "       [ 55],\n",
       "       [107],\n",
       "       [102],\n",
       "       [ 82],\n",
       "       [ 98],\n",
       "       [ 44],\n",
       "       [ 59],\n",
       "       [ 64],\n",
       "       [ 21],\n",
       "       [  0],\n",
       "       [106],\n",
       "       [ 94],\n",
       "       [ 85],\n",
       "       [  3],\n",
       "       [ 48],\n",
       "       [ 65],\n",
       "       [ 72],\n",
       "       [ 86],\n",
       "       [ 81],\n",
       "       [ 49],\n",
       "       [  6],\n",
       "       [ 64],\n",
       "       [ 79],\n",
       "       [  3],\n",
       "       [106],\n",
       "       [ 26],\n",
       "       [ 55],\n",
       "       [ 31],\n",
       "       [ 10],\n",
       "       [ 86],\n",
       "       [ 78],\n",
       "       [ 92],\n",
       "       [105],\n",
       "       [ 95],\n",
       "       [  2],\n",
       "       [ 74],\n",
       "       [ 32],\n",
       "       [ 14],\n",
       "       [  0],\n",
       "       [ 98],\n",
       "       [ 97],\n",
       "       [  2],\n",
       "       [ 37],\n",
       "       [ 63],\n",
       "       [ 28],\n",
       "       [109],\n",
       "       [ 99],\n",
       "       [ 68],\n",
       "       [ 40],\n",
       "       [ 55],\n",
       "       [ 21],\n",
       "       [ 23],\n",
       "       [ 13],\n",
       "       [ 69],\n",
       "       [ 13],\n",
       "       [ 67],\n",
       "       [ 14],\n",
       "       [  2],\n",
       "       [ 27],\n",
       "       [ 22],\n",
       "       [ 38],\n",
       "       [ 13],\n",
       "       [  2],\n",
       "       [  1],\n",
       "       [ 85],\n",
       "       [ 58],\n",
       "       [ 79],\n",
       "       [  1],\n",
       "       [ 11],\n",
       "       [ 65],\n",
       "       [  0],\n",
       "       [ 35],\n",
       "       [ 56],\n",
       "       [ 94],\n",
       "       [ 43],\n",
       "       [ 56],\n",
       "       [ 68],\n",
       "       [ 94],\n",
       "       [111],\n",
       "       [ 78],\n",
       "       [ 16],\n",
       "       [ 82],\n",
       "       [ 89],\n",
       "       [104],\n",
       "       [ 75],\n",
       "       [ 65],\n",
       "       [ 12],\n",
       "       [102],\n",
       "       [ 96],\n",
       "       [ 39],\n",
       "       [ 19],\n",
       "       [ 96],\n",
       "       [ 96],\n",
       "       [ 80],\n",
       "       [ 13],\n",
       "       [ 81],\n",
       "       [ 16],\n",
       "       [  5],\n",
       "       [105],\n",
       "       [ 12],\n",
       "       [ 11]])>"
      ]
     },
     "execution_count": 41,
     "metadata": {
      "tags": []
     },
     "output_type": "execute_result"
    }
   ],
   "source": [
    "sampled_indices"
   ]
  },
  {
   "cell_type": "code",
   "execution_count": 42,
   "metadata": {
    "id": "Wi80PQVtBLqj"
   },
   "outputs": [],
   "source": [
    "# Reformat to not be a lists of lists\n",
    "sampled_indices = tf.squeeze(sampled_indices,axis=-1).numpy()"
   ]
  },
  {
   "cell_type": "code",
   "execution_count": 43,
   "metadata": {
    "colab": {
     "base_uri": "https://localhost:8080/"
    },
    "id": "4qYkIg00-wjq",
    "outputId": "12a52b24-1605-423f-cdd1-2f04a4f49b24"
   },
   "outputs": [
    {
     "data": {
      "text/plain": [
       "array([ 45,  80,   9,  92,  37,  13,  68,  37,  86,  94,  81,  99,  79,\n",
       "        45,  75,  84,  64,  25,  55,  55, 107, 102,  82,  98,  44,  59,\n",
       "        64,  21,   0, 106,  94,  85,   3,  48,  65,  72,  86,  81,  49,\n",
       "         6,  64,  79,   3, 106,  26,  55,  31,  10,  86,  78,  92, 105,\n",
       "        95,   2,  74,  32,  14,   0,  98,  97,   2,  37,  63,  28, 109,\n",
       "        99,  68,  40,  55,  21,  23,  13,  69,  13,  67,  14,   2,  27,\n",
       "        22,  38,  13,   2,   1,  85,  58,  79,   1,  11,  65,   0,  35,\n",
       "        56,  94,  43,  56,  68,  94, 111,  78,  16,  82,  89, 104,  75,\n",
       "        65,  12, 102,  96,  39,  19,  96,  96,  80,  13,  81,  16,   5,\n",
       "       105,  12,  11])"
      ]
     },
     "execution_count": 43,
     "metadata": {
      "tags": []
     },
     "output_type": "execute_result"
    }
   ],
   "source": [
    "sampled_indices"
   ]
  },
  {
   "cell_type": "code",
   "execution_count": 44,
   "metadata": {
    "colab": {
     "base_uri": "https://localhost:8080/"
    },
    "id": "H9-P_XqQ_7wY",
    "outputId": "26a001b9-d716-4d29-922b-6548183371a7"
   },
   "outputs": [
    {
     "name": "stdout",
     "output_type": "stream",
     "text": [
      "Given the input seq: \n",
      "\n",
      "s, and no signs of the Martians. I\n",
      "encountered a couple of hungry-looking dogs, but both hurried\n",
      "circuitously away from \n",
      "\n",
      "\n",
      "Next Char Predictions: \n",
      "\n",
      "Ns)âF-gFyætórNnwc9XX“œuëM]c5\n",
      "’æx\"QdkytR&cr\"’:X?*yqâ‘ç!mA.\n",
      "ëé!Fb<…ógIX57-h-f.!;6G-! x[r +d\n",
      "DYæLYgæ″q0u}—nd,œèH3èès-t0%‘,+\n"
     ]
    }
   ],
   "source": [
    "print(\"Given the input seq: \\n\")\n",
    "print(\"\".join(ind_to_char[input_example_batch[0]]))\n",
    "print('\\n')\n",
    "print(\"Next Char Predictions: \\n\")\n",
    "print(\"\".join(ind_to_char[sampled_indices ]))\n"
   ]
  },
  {
   "cell_type": "markdown",
   "metadata": {
    "id": "DAOE4rzuBh7f"
   },
   "source": []
  },
  {
   "cell_type": "code",
   "execution_count": 45,
   "metadata": {
    "id": "ZYDQjKTlm4s8"
   },
   "outputs": [],
   "source": [
    "epochs = 30"
   ]
  },
  {
   "cell_type": "code",
   "execution_count": 46,
   "metadata": {
    "colab": {
     "base_uri": "https://localhost:8080/"
    },
    "id": "_PJ4OVdBm4s8",
    "outputId": "8327c8e6-033d-4341-b25c-9d4ddc691c5c"
   },
   "outputs": [
    {
     "name": "stdout",
     "output_type": "stream",
     "text": [
      "Epoch 1/30\n",
      "463/463 [==============================] - 124s 261ms/step - loss: 2.9181\n",
      "Epoch 2/30\n",
      "463/463 [==============================] - 123s 262ms/step - loss: 1.7584\n",
      "Epoch 3/30\n",
      "463/463 [==============================] - 122s 261ms/step - loss: 1.4600\n",
      "Epoch 4/30\n",
      "463/463 [==============================] - 123s 262ms/step - loss: 1.3546\n",
      "Epoch 5/30\n",
      "463/463 [==============================] - 123s 262ms/step - loss: 1.3010\n",
      "Epoch 6/30\n",
      "463/463 [==============================] - 123s 262ms/step - loss: 1.2660\n",
      "Epoch 7/30\n",
      "463/463 [==============================] - 123s 261ms/step - loss: 1.2405\n",
      "Epoch 8/30\n",
      "463/463 [==============================] - 123s 262ms/step - loss: 1.2192\n",
      "Epoch 9/30\n",
      "463/463 [==============================] - 122s 261ms/step - loss: 1.2012\n",
      "Epoch 10/30\n",
      "463/463 [==============================] - 123s 262ms/step - loss: 1.1869\n",
      "Epoch 11/30\n",
      "463/463 [==============================] - 123s 262ms/step - loss: 1.1727\n",
      "Epoch 12/30\n",
      "463/463 [==============================] - 122s 261ms/step - loss: 1.1597\n",
      "Epoch 13/30\n",
      "463/463 [==============================] - 122s 259ms/step - loss: 1.1492\n",
      "Epoch 14/30\n",
      "463/463 [==============================] - 122s 261ms/step - loss: 1.1399\n",
      "Epoch 15/30\n",
      "463/463 [==============================] - 123s 262ms/step - loss: 1.1302\n",
      "Epoch 16/30\n",
      "463/463 [==============================] - 123s 262ms/step - loss: 1.1223\n",
      "Epoch 17/30\n",
      "463/463 [==============================] - 124s 263ms/step - loss: 1.1144\n",
      "Epoch 18/30\n",
      "463/463 [==============================] - 124s 263ms/step - loss: 1.1083\n",
      "Epoch 19/30\n",
      "463/463 [==============================] - 123s 262ms/step - loss: 1.1024\n",
      "Epoch 20/30\n",
      "463/463 [==============================] - 123s 262ms/step - loss: 1.0954\n",
      "Epoch 21/30\n",
      "463/463 [==============================] - 123s 262ms/step - loss: 1.0911\n",
      "Epoch 22/30\n",
      "463/463 [==============================] - 123s 262ms/step - loss: 1.0873\n",
      "Epoch 23/30\n",
      "463/463 [==============================] - 124s 263ms/step - loss: 1.0843\n",
      "Epoch 24/30\n",
      "463/463 [==============================] - 124s 263ms/step - loss: 1.0804\n",
      "Epoch 25/30\n",
      "463/463 [==============================] - 123s 262ms/step - loss: 1.0778\n",
      "Epoch 26/30\n",
      "463/463 [==============================] - 124s 263ms/step - loss: 1.0747\n",
      "Epoch 27/30\n",
      "463/463 [==============================] - 123s 262ms/step - loss: 1.0732\n",
      "Epoch 28/30\n",
      "463/463 [==============================] - 123s 262ms/step - loss: 1.0711\n",
      "Epoch 29/30\n",
      "463/463 [==============================] - 123s 263ms/step - loss: 1.0707\n",
      "Epoch 30/30\n",
      "463/463 [==============================] - 123s 262ms/step - loss: 1.0681\n"
     ]
    },
    {
     "data": {
      "text/plain": [
       "<tensorflow.python.keras.callbacks.History at 0x7fdcc803e320>"
      ]
     },
     "execution_count": 46,
     "metadata": {
      "tags": []
     },
     "output_type": "execute_result"
    }
   ],
   "source": [
    "model.fit(dataset,epochs=epochs)"
   ]
  },
  {
   "cell_type": "markdown",
   "metadata": {
    "id": "kKkD5M6eoSiN"
   },
   "source": [
    "## Step 6: Generating text\n"
   ]
  },
  {
   "cell_type": "code",
   "execution_count": 47,
   "metadata": {
    "id": "eYRNG57Govdc"
   },
   "outputs": [],
   "source": [
    "model.save('fiction_gen.h5') "
   ]
  },
  {
   "cell_type": "code",
   "execution_count": 48,
   "metadata": {
    "id": "GCoJayFS8H4d"
   },
   "outputs": [],
   "source": [
    "from tensorflow.keras.models import load_model"
   ]
  },
  {
   "cell_type": "code",
   "execution_count": 49,
   "metadata": {
    "id": "_iXG3VJvEXWM"
   },
   "outputs": [],
   "source": [
    "model = create_model(vocab_size, embed_dim, rnn_neurons, batch_size=1)\n",
    "\n",
    "model.load_weights('fiction_gen.h5')\n",
    "\n",
    "model.build(tf.TensorShape([1, None]))\n"
   ]
  },
  {
   "cell_type": "code",
   "execution_count": null,
   "metadata": {
    "id": "LAX3p7_YEilU"
   },
   "outputs": [],
   "source": [
    "model.summary()"
   ]
  },
  {
   "cell_type": "code",
   "execution_count": 51,
   "metadata": {
    "id": "WvuwZBX5Ogfd"
   },
   "outputs": [],
   "source": [
    "def generate_text(model, start_seed,gen_size=100,temp=1.0):\n",
    "  '''\n",
    "  model: Trained Model to Generate Text\n",
    "  start_seed: Intial Seed text in string form\n",
    "  gen_size: Number of characters to generate\n",
    "\n",
    "  Basic idea behind this function is to take in some seed text, format it so\n",
    "  that it is in the correct shape for our network, then loop the sequence as\n",
    "  we keep adding our own predicted characters. Similar to our work in the RNN\n",
    "  time series problems.\n",
    "  '''\n",
    "\n",
    "  # Number of characters to generate\n",
    "  num_generate = gen_size\n",
    "\n",
    "  # Vecotrizing starting seed text\n",
    "  input_eval = [char_to_ind[s] for s in start_seed]\n",
    "\n",
    "  # Expand to match batch format shape\n",
    "  input_eval = tf.expand_dims(input_eval, 0)\n",
    "\n",
    "  # Empty list to hold resulting generated text\n",
    "  text_generated = []\n",
    "\n",
    "  # Temperature effects randomness in our resulting text\n",
    "  # The term is derived from entropy/thermodynamics.\n",
    "  # The temperature is used to effect probability of next characters.\n",
    "  # Higher probability == lesss surprising/ more expected\n",
    "  # Lower temperature == more surprising / less expected\n",
    " \n",
    "  temperature = temp\n",
    "\n",
    "  # Here batch size == 1\n",
    "  model.reset_states()\n",
    "\n",
    "  for i in range(num_generate):\n",
    "\n",
    "      # Generate Predictions\n",
    "      predictions = model(input_eval)\n",
    "\n",
    "      # Remove the batch shape dimension\n",
    "      predictions = tf.squeeze(predictions, 0)\n",
    "\n",
    "      # Use a cateogircal disitribution to select the next character\n",
    "      predictions = predictions / temperature\n",
    "      predicted_id = tf.random.categorical(predictions, num_samples=1)[-1,0].numpy()\n",
    "\n",
    "      # Pass the predicted charracter for the next input\n",
    "      input_eval = tf.expand_dims([predicted_id], 0)\n",
    "\n",
    "      # Transform back to character letter\n",
    "      text_generated.append(ind_to_char[predicted_id])\n",
    "\n",
    "  return (start_seed + ''.join(text_generated))"
   ]
  },
  {
   "cell_type": "code",
   "execution_count": 52,
   "metadata": {
    "colab": {
     "base_uri": "https://localhost:8080/"
    },
    "id": "bS69SG5D5lwd",
    "outputId": "9f57e59b-9b40-4fb0-9515-e737329cd4a7"
   },
   "outputs": [
    {
     "name": "stdout",
     "output_type": "stream",
     "text": [
      "Timed Uncle _vixe_!\n",
      "\n",
      "Their full glowing motion had caused them for the land it was easy to set out. eremen,\n",
      "or bare; he burned all these scrapus of Helium.  There was the\n",
      "composition of his motive return to the door, where the\n",
      "beletion of my first huge die Pencroft was just as good as the girl cut off two\n",
      "ears and of course.  A young friend, in the court it was all else\n",
      "had gone before I give an acid small.\n",
      "\n",
      "His name.\n",
      "\n",
      "Second maneuvered, and she also recourse to the extent of\n",
      "Roger's OtKE \"JY There, the, Barbicane, put in cases and white beams to\n",
      "his teeth. The sky, final restments, start\n",
      "silky is\n",
      "connected with his bare face, and dropped their laving and squealing, radiation. Not his\n",
      "withs justly pointed to a speed of ameler wires with all\n",
      "my guarding bed from him. He smushed over it smoor; a March\n",
      "Trask.  \"Far off, one vast district people were encigning.\n",
      "\n",
      "\"Just as you please, pisited around his odd; neither Port of North Careou!\"\n",
      "\n",
      "[1] and now in the mountain! The possibility ws up to a \n"
     ]
    }
   ],
   "source": [
    "print(generate_text(model,\"Time\",gen_size=1000))"
   ]
  },
  {
   "cell_type": "code",
   "execution_count": null,
   "metadata": {
    "id": "dff5xCHIeEHO"
   },
   "outputs": [],
   "source": []
  }
 ],
 "metadata": {
  "accelerator": "GPU",
  "colab": {
   "collapsed_sections": [],
   "name": "00_Generating_Text_with_RNNs(fiction).ipynb",
   "provenance": [],
   "toc_visible": true
  },
  "kernelspec": {
   "display_name": "Python 3",
   "language": "python",
   "name": "python3"
  },
  "language_info": {
   "codemirror_mode": {
    "name": "ipython",
    "version": 3
   },
   "file_extension": ".py",
   "mimetype": "text/x-python",
   "name": "python",
   "nbconvert_exporter": "python",
   "pygments_lexer": "ipython3",
   "version": "3.8.5"
  }
 },
 "nbformat": 4,
 "nbformat_minor": 1
}
